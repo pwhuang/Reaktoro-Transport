{
 "cells": [
  {
   "cell_type": "code",
   "execution_count": 1,
   "metadata": {},
   "outputs": [],
   "source": [
    "import os\n",
    "os.environ['OMP_NUM_THREADS']='4'\n",
    "\n",
    "import numpy as np\n",
    "import matplotlib.pyplot as plt\n",
    "from scipy.interpolate import RegularGridInterpolator\n",
    "\n",
    "from dolfin import *\n",
    "\n",
    "import sys\n",
    "sys.path.insert(0, '../../')\n",
    "from reaktoro_transport.solver import stokes_uzawa\n",
    "\n",
    "#importing the class\n",
    "from reaktoro_transport.physics.DG0Kernel import DG0Kernel\n",
    "from reaktoro_transport.problem.TracerTransportProblem import TracerTransportProblem\n",
    "from reaktoro_transport.problem.StokesFlowUzawa import StokesFlowUzawa\n",
    "\n",
    "from ufl.algebra import Abs\n",
    "\n",
    "%matplotlib inline\n",
    "plt.rcParams.update({'font.size': 18})\n",
    "plt.rc('text', usetex = True)\n",
    "plt.rc('font', **{'family' : \"sans-serif\"})\n",
    "plt.rcParams.update({'text.latex.preamble' : [r'\\usepackage{siunitx}', r'\\usepackage{amsmath}']})"
   ]
  },
  {
   "cell_type": "code",
   "execution_count": 2,
   "metadata": {},
   "outputs": [],
   "source": [
    "def transient_adv_diff_DG(mesh, boundary_markers, adv, source, D_num, init_cond, dt_num, steps, theta_num):\n",
    "    # Input\n",
    "    # mesh:     dolfin mesh\n",
    "\n",
    "    # Output\n",
    "    # u_list:   list of dolfin function\n",
    "\n",
    "    V = FunctionSpace(mesh, 'DG', 0)\n",
    "    Vec = VectorFunctionSpace(mesh, 'CR', 1)\n",
    "\n",
    "    u = TrialFunction(V)\n",
    "    w = TestFunction(V)\n",
    "    u0 = project(init_cond, V)\n",
    "\n",
    "    n = FacetNormal(mesh)\n",
    "\n",
    "    x_ = interpolate(Expression(\"x[0]\", degree=1), V)\n",
    "    y_ = interpolate(Expression(\"x[1]\",degree=1), V)\n",
    "\n",
    "    Delta_h = sqrt(jump(x_)**2 + jump(y_)**2)\n",
    "    adv = project(adv, Vec)\n",
    "\n",
    "    ds = Measure('ds', domain=mesh, subdomain_data=boundary_markers)\n",
    "    dS = Measure('dS', domain=mesh, subdomain_data=boundary_markers)\n",
    "\n",
    "    u_list = [u0.copy()]\n",
    "\n",
    "    bc = []\n",
    "\n",
    "    dt = Constant(dt_num)\n",
    "    one = Constant(1.0)\n",
    "\n",
    "    adv_np = ( dot ( adv, n ) + Abs ( dot ( adv, n ) ) ) / 2.0\n",
    "    adv_nm = ( dot ( adv, n ) - Abs ( dot ( adv, n ) ) ) / 2.0\n",
    "    adv_n = dot ( adv, n )\n",
    "\n",
    "    def L(w, u):\n",
    "        return Constant(D_num)*dot(jump(w), jump(u))/Delta_h*dS(0) \\\n",
    "               + dot(jump(w), adv_np('+')*u('+') - adv_np('-')*u('-') )*dS(0) \\\n",
    "               + w*u/x_*ds(2) \\\n",
    "               + w*inner(adv_np, u)*ds(3) # Outflow boundary conditions\n",
    "               \n",
    "\n",
    "        #return dot(jump(w), adv_np('+')*u('+') - adv_np('-')*u('-') )\n",
    "        #return Constant(0.5)*w*div(adv*u) + Constant(0.5)*w*dot(adv, grad(u))\n",
    "\n",
    "\n",
    "    delta_u = u - u0\n",
    "    W = 0.5\n",
    "    #ww = (w*source-L(w, u0))\n",
    "\n",
    "    #F = (w*delta_u/dt + W*L(w, u - u0) - ww)*dx\n",
    "\n",
    "    #a, L = lhs(F), rhs(F)\n",
    "\n",
    "    theta = Constant(theta_num)\n",
    "\n",
    "    a = ( w*u/dt )*dx + theta*L(w, u)\n",
    "    L = ( w*u0/dt + w*source )*dx - (one-theta)*L(w, u0) + w*one/x_*ds(2)\n",
    "    u = Function(V)\n",
    "\n",
    "    problem = LinearVariationalProblem(a, L, u, bcs=bc)\n",
    "    solver = LinearVariationalSolver(problem)\n",
    "\n",
    "    prm = solver.parameters\n",
    "\n",
    "    prm['krylov_solver']['absolute_tolerance'] = 1e-12\n",
    "    prm['krylov_solver']['relative_tolerance'] = 1e-10\n",
    "    prm['krylov_solver']['maximum_iterations'] = 500\n",
    "    #if iterative_solver:\n",
    "    prm['linear_solver'] = 'gmres'\n",
    "    prm['preconditioner'] = 'ilu'\n",
    "\n",
    "    for i in range(steps):\n",
    "        solver.solve()\n",
    "        u0.assign(u)\n",
    "        u_list.append(u0.copy())\n",
    "\n",
    "    return u_list\n"
   ]
  },
  {
   "cell_type": "code",
   "execution_count": 3,
   "metadata": {},
   "outputs": [],
   "source": [
    "class tracer_transport_problem(TracerTransportProblem, StokesFlowUzawa, DG0Kernel):\n",
    "    \"\"\"\"\"\"\n",
    "    \n",
    "    def set_flow_field(self, file_path):\n",
    "        V = VectorFunctionSpace(self.mesh, \"Crouzeix-Raviart\", 1)\n",
    "        #Q = FunctionSpace(self.mesh, \"DG\", 0)\n",
    "        self.fluid_velocity = Function(V)\n",
    "        \n",
    "        xdmf_obj = XDMFFile(MPI.comm_world, file_path)\n",
    "        xdmf_obj.read_checkpoint(self.fluid_velocity, 'velocity', 0)\n",
    "        xdmf_obj.close()\n"
   ]
  },
  {
   "cell_type": "code",
   "execution_count": 4,
   "metadata": {},
   "outputs": [],
   "source": [
    "# Reading mesh and MeshFunction that stores the fluid solid markers\n",
    "mesh_xdmf = Mesh()\n",
    "\n",
    "xdmf_obj = XDMFFile(MPI.comm_world, '../2_flow_simulation/fluid_mesh.xdmf')\n",
    "xdmf_obj.read(mesh_xdmf)\n",
    "\n",
    "domain_markers = MeshFunction('size_t', mesh_xdmf, dim=2)\n",
    "xdmf_obj.read(domain_markers)\n",
    "\n",
    "xdmf_obj.close()\n",
    "\n",
    "\n",
    "boundary_markers = MeshFunction('size_t', mesh_xdmf, dim=1)\n",
    "xdmf_obj = XDMFFile(MPI.comm_world, '../2_flow_simulation/fluid_boundary.xdmf')\n",
    "xdmf_obj.read(boundary_markers)\n",
    "xdmf_obj.close()"
   ]
  },
  {
   "cell_type": "code",
   "execution_count": 5,
   "metadata": {},
   "outputs": [],
   "source": [
    "p_bc_dict = {'inlet': [2, 3, 4], 'noslip': [4], }\n",
    "p_dirichlet_list = [Constant(1.0), Constant(1.0), Constant(0.0)]"
   ]
  },
  {
   "cell_type": "code",
   "execution_count": 6,
   "metadata": {},
   "outputs": [
    {
     "name": "stdout",
     "output_type": "stream",
     "text": [
      "CPU times: user 24.1 ms, sys: 886 µs, total: 25 ms\n",
      "Wall time: 24.6 ms\n"
     ]
    }
   ],
   "source": [
    "%%time\n",
    "\n",
    "problem = tracer_transport_problem()\n",
    "problem.set_mesh(mesh_xdmf)\n",
    "problem.set_boundary_markers(boundary_markers)\n",
    "problem.set_domain_markers(domain_markers)\n",
    "\n",
    "problem.set_flow_field(file_path = '../2_flow_simulation/pv_output_fluid_mesh.xdmf')\n",
    "#problem.set_pressure_boundary_conditions(p_bc_dict, p_dirichlet_list)\n",
    "#velocity, pressure = problem.solve_stokes(max_steps=50, res_target=1e-13, omega_num=500.0, r_num=400.0)"
   ]
  },
  {
   "cell_type": "code",
   "execution_count": 7,
   "metadata": {},
   "outputs": [],
   "source": [
    "problem.set_components('Na+', 'Cl-')\n",
    "problem.set_component_fe_space()\n",
    "problem.initialize_form()\n",
    "problem.set_component_ics([Expression('0.0', degree=0), Expression('0.0', degree=0)])"
   ]
  },
  {
   "cell_type": "code",
   "execution_count": 8,
   "metadata": {},
   "outputs": [],
   "source": [
    "problem.add_advection(marker=0)\n",
    "problem.add_diffusion('Na+', diffusivity=1e-3, marker=0)\n",
    "problem.add_diffusion('Cl-', diffusivity=8e-4, marker=0)"
   ]
  },
  {
   "cell_type": "code",
   "execution_count": 9,
   "metadata": {},
   "outputs": [],
   "source": [
    "problem.mark_component_boundary(**{'Na+': [2, 3], 'Cl-': [2, 3], 'outlet': [4]})\n",
    "problem.add_component_bc('Na+', [Constant(1.0), Constant(1.0)])\n",
    "problem.add_component_bc('Cl-', [Constant(1.0), Constant(1.0)])\n",
    "problem.add_outflow_bc()\n",
    "problem.generate_solver()"
   ]
  },
  {
   "cell_type": "code",
   "execution_count": 10,
   "metadata": {},
   "outputs": [],
   "source": [
    "problem.set_output_instance('tracer_transport_fluid_mesh')"
   ]
  },
  {
   "cell_type": "code",
   "execution_count": 11,
   "metadata": {},
   "outputs": [
    {
     "name": "stdout",
     "output_type": "stream",
     "text": [
      "CPU times: user 11.2 s, sys: 14 s, total: 25.2 s\n",
      "Wall time: 6.33 s\n"
     ]
    }
   ],
   "source": [
    "%%time\n",
    "\n",
    "solution = problem.solve_transport(dt_val=3.0, timesteps=180)"
   ]
  },
  {
   "cell_type": "code",
   "execution_count": 12,
   "metadata": {},
   "outputs": [],
   "source": [
    "problem.delete_output_instance()"
   ]
  },
  {
   "cell_type": "code",
   "execution_count": 13,
   "metadata": {},
   "outputs": [
    {
     "data": {
      "image/png": "[encoded data removed]",
      "text/plain": [
       "<Figure size 936x504 with 2 Axes>"
      ]
     },
     "metadata": {
      "needs_background": "light"
     },
     "output_type": "display_data"
    }
   ],
   "source": [
    "fig = plt.figure(figsize=(13,7))\n",
    "cb = plot(solution[0])\n",
    "fig.colorbar(cb)\n",
    "plt.show()"
   ]
  },
  {
   "cell_type": "code",
   "execution_count": null,
   "metadata": {},
   "outputs": [],
   "source": []
  }
 ],
 "metadata": {
  "kernelspec": {
   "display_name": "Python 3",
   "language": "python",
   "name": "python3"
  },
  "language_info": {
   "codemirror_mode": {
    "name": "ipython",
    "version": 3
   },
   "file_extension": ".py",
   "mimetype": "text/x-python",
   "name": "python",
   "nbconvert_exporter": "python",
   "pygments_lexer": "ipython3",
   "version": "3.7.6"
  }
 },
 "nbformat": 4,
 "nbformat_minor": 4
}
